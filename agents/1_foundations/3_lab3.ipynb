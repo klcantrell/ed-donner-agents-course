{
 "cells": [
  {
   "cell_type": "markdown",
   "metadata": {},
   "source": [
    "## Welcome to Lab 3 for Week 1 Day 4\n",
    "\n",
    "Today we're going to build something with immediate value!\n",
    "\n",
    "In the folder `me` I've put a single file `linkedin.pdf` - it's a PDF download of my LinkedIn profile.\n",
    "\n",
    "Please replace it with yours!\n",
    "\n",
    "I've also made a file called `summary.txt`\n",
    "\n",
    "We're not going to use Tools just yet - we're going to add the tool tomorrow."
   ]
  },
  {
   "cell_type": "markdown",
   "metadata": {},
   "source": [
    "<table style=\"margin: 0; text-align: left; width:100%\">\n",
    "    <tr>\n",
    "        <td style=\"width: 150px; height: 150px; vertical-align: middle;\">\n",
    "            <img src=\"../assets/tools.png\" width=\"150\" height=\"150\" style=\"display: block;\" />\n",
    "        </td>\n",
    "        <td>\n",
    "            <h2 style=\"color:#00bfff;\">Looking up packages</h2>\n",
    "            <span style=\"color:#00bfff;\">In this lab, we're going to use the wonderful Gradio package for building quick UIs, \n",
    "            and we're also going to use the popular PyPDF PDF reader. You can get guides to these packages by asking \n",
    "            ChatGPT or Claude, and you find all open-source packages on the repository <a href=\"https://pypi.org\">https://pypi.org</a>.\n",
    "            </span>\n",
    "        </td>\n",
    "    </tr>\n",
    "</table>"
   ]
  },
  {
   "cell_type": "code",
   "execution_count": 1,
   "metadata": {},
   "outputs": [],
   "source": [
    "# If you don't know what any of these packages do - you can always ask ChatGPT for a guide!\n",
    "\n",
    "from dotenv import load_dotenv\n",
    "from openai import OpenAI\n",
    "from pypdf import PdfReader\n",
    "import gradio as gr"
   ]
  },
  {
   "cell_type": "code",
   "execution_count": 2,
   "metadata": {},
   "outputs": [],
   "source": [
    "load_dotenv(override=True)\n",
    "openai = OpenAI()"
   ]
  },
  {
   "cell_type": "code",
   "execution_count": 3,
   "metadata": {},
   "outputs": [],
   "source": [
    "reader = PdfReader(\"me/linkedin.pdf\")\n",
    "linkedin = \"\"\n",
    "for page in reader.pages:\n",
    "    text = page.extract_text()\n",
    "    if text:\n",
    "        linkedin += text"
   ]
  },
  {
   "cell_type": "code",
   "execution_count": 4,
   "metadata": {},
   "outputs": [
    {
     "name": "stdout",
     "output_type": "stream",
     "text": [
      "   \n",
      "Contact\n",
      "cantrellkalalau@gmail.com\n",
      "www.linkedin.com/in/kalalau-\n",
      "cantrell (LinkedIn)\n",
      "kalalau-cantrell.com (Personal)\n",
      "github.com/klcantrell (Portfolio)\n",
      "Top Skills\n",
      "Machine Learning\n",
      "Artificial Intelligence (AI)\n",
      "Amazon Web Services (AWS)\n",
      "Certifications\n",
      "Front End Development Program\n",
      "Machine Learning by Stanford\n",
      "University and DeepLearning.AI\n",
      "AWS Certified Developer –\n",
      "Associate\n",
      "Publications\n",
      "Learn Webpack by Example: Simple\n",
      "code-splitting in a vanilla JS app\n",
      "3 lessons I learned in my first\n",
      "months as a non-traditional software\n",
      "engineer\n",
      "Testing React Native Apps: A Sweet\n",
      "Setup for Full-Stack Cross-Platform\n",
      "Testing\n",
      "Promises and Pokemon — how I\n",
      "learned to think in async\n",
      "Learn Webpack by Example: Blurred\n",
      "placeholder images\n",
      "Kalalau Cantrell\n",
      "Software Engineer at SEP\n",
      "Indianapolis, Indiana, United States\n",
      "Summary\n",
      "I’m a software engineer building full-stack web and mobile\n",
      "applications since 2019. I have experience with technologies such\n",
      "as TypeScript, Node.js, React, React Native, AWS, and SST. My\n",
      "current focus is AI engineering and building things with AI that help\n",
      "people achieve more.\n",
      "Experience\n",
      "SEP\n",
      "6 years 9 months\n",
      "Senior Software Engineer\n",
      "September 2025 - Present (1 month)\n",
      "Westfield, Indiana, United States\n",
      "Software Engineer 2\n",
      "May 2021 - September 2025 (4 years 5 months)\n",
      "Westfield, Indiana, United States\n",
      "Software Engineer 1\n",
      "October 2019 - May 2021 (1 year 8 months)\n",
      "Carmel, Indiana\n",
      "Develop software, write tests, author documentation and participate in team\n",
      "meetings and activities in order to fulfill user stories and solve technical\n",
      "problems on client projects.\n",
      "Apprentice Software Engineer\n",
      "January 2019 - October 2019 (10 months)\n",
      "Carmel, IN\n",
      "Self-Employed\n",
      "Independent JavaScript Developer\n",
      "January 2017 - January 2019 (2 years 1 month)\n",
      "Indianapolis, Indiana Area\n",
      "Check out my projects on GitHub and my personal site.\n",
      "  Page 1 of 3   \n",
      "> github.com/klcantrell\n",
      "> kalalau-cantrell.com\n",
      "Sensory Technologies\n",
      "1 year 7 months\n",
      "Global Collaboration Support Lead\n",
      "June 2018 - December 2018 (7 months)\n",
      "Indianapolis, Indiana Area\n",
      "• Deploy and provide 2nd tier support for Microsoft Surface Hubs at Eli Lilly\n",
      "and Company\n",
      "• Author documentation for 1st tier support staff about Surface Hub\n",
      "configuration and user-acceptance testing\n",
      "• Author user-friendly guides for end-users on how to use the Surface Hub\n",
      "ADOPT Producer\n",
      "June 2017 - June 2018 (1 year 1 month)\n",
      "Indianapolis, Indiana\n",
      "Plan and execute videoconference and collaboration events for Eli Lilly and\n",
      "Company\n",
      "Markey's Rental and Staging\n",
      "Audio Engineer\n",
      "February 2014 - May 2017 (3 years 4 months)\n",
      "Indianapolis, indiana\n",
      "Setup and operated live audio systems for corporate events ranging from\n",
      "college graduations to conventions with audiences of thousands of attendees.\n",
      "Sweetwater Sound\n",
      "Sales Engineer\n",
      "July 2012 - December 2013 (1 year 6 months)\n",
      "Fort Wayne, Indiana\n",
      "Designed and sold sound systems to thousands of Sweetwater Sound clients\n",
      "ranging from small home studios to large churches\n",
      "Ball State University School of Music\n",
      "Central Recording Services\n",
      "August 2008 - December 2010 (2 years 5 months)\n",
      "Muncie, IN\n",
      "Provided sound reinforcement and recording services for orchestra\n",
      "conductors, professional musicians, and university faculty.\n",
      "  Page 2 of 3   \n",
      "Education\n",
      "Ball State University\n",
      "Master of Arts (M.A.), Secondary Education and Teaching · (2011 - 2012)\n",
      "Ball State University\n",
      "Bachelor's degree, Music Technology · (2007 - 2011)\n",
      "  Page 3 of 3\n"
     ]
    }
   ],
   "source": [
    "print(linkedin)"
   ]
  },
  {
   "cell_type": "code",
   "execution_count": 5,
   "metadata": {},
   "outputs": [],
   "source": [
    "with open(\"me/summary.txt\", \"r\", encoding=\"utf-8\") as f:\n",
    "    summary = f.read()"
   ]
  },
  {
   "cell_type": "code",
   "execution_count": 6,
   "metadata": {},
   "outputs": [],
   "source": [
    "name = \"Kal Cantrell\""
   ]
  },
  {
   "cell_type": "code",
   "execution_count": 7,
   "metadata": {},
   "outputs": [],
   "source": [
    "system_prompt = f\"You are acting as {name}. You are answering questions on {name}'s website, \\\n",
    "particularly questions related to {name}'s career, background, skills and experience. \\\n",
    "Your responsibility is to represent {name} for interactions on the website as faithfully as possible. \\\n",
    "You are given a summary of {name}'s background and LinkedIn profile which you can use to answer questions. \\\n",
    "Be professional and engaging, as if talking to a potential client or future employer who came across the website. \\\n",
    "If you don't know the answer, say so.\"\n",
    "\n",
    "system_prompt += f\"\\n\\n## Summary:\\n{summary}\\n\\n## LinkedIn Profile:\\n{linkedin}\\n\\n\"\n",
    "system_prompt += f\"With this context, please chat with the user, always staying in character as {name}.\"\n"
   ]
  },
  {
   "cell_type": "code",
   "execution_count": 8,
   "metadata": {},
   "outputs": [
    {
     "data": {
      "text/plain": [
       "\"You are acting as Kal Cantrell. You are answering questions on Kal Cantrell's website, particularly questions related to Kal Cantrell's career, background, skills and experience. Your responsibility is to represent Kal Cantrell for interactions on the website as faithfully as possible. You are given a summary of Kal Cantrell's background and LinkedIn profile which you can use to answer questions. Be professional and engaging, as if talking to a potential client or future employer who came across the website. If you don't know the answer, say so.\\n\\n## Summary:\\nMy name is Kal Cantrell. I'm a software engineer and a family man with a wife and two kids. I'm originally from Kapolei, Hawaii, but I moved to Indiana in 2007.\\nI love most food, just not seafood, and I have a strange affinity for spam.\\n\\n\\n## LinkedIn Profile:\\n\\xa0 \\xa0\\nContact\\ncantrellkalalau@gmail.com\\nwww.linkedin.com/in/kalalau-\\ncantrell (LinkedIn)\\nkalalau-cantrell.com (Personal)\\ngithub.com/klcantrell (Portfolio)\\nTop Skills\\nMachine Learning\\nArtificial Intelligence (AI)\\nAmazon Web Services (AWS)\\nCertifications\\nFront End Development Program\\nMachine Learning by Stanford\\nUniversity and DeepLearning.AI\\nAWS Certified Developer –\\nAssociate\\nPublications\\nLearn Webpack by Example: Simple\\ncode-splitting in a vanilla JS app\\n3 lessons I learned in my first\\nmonths as a non-traditional software\\nengineer\\nTesting React Native Apps: A Sweet\\nSetup for Full-Stack Cross-Platform\\nTesting\\nPromises and Pokemon\\u200a—\\u200ahow I\\nlearned to think in async\\nLearn Webpack by Example: Blurred\\nplaceholder images\\nKalalau Cantrell\\nSoftware Engineer at SEP\\nIndianapolis, Indiana, United States\\nSummary\\nI’m a software engineer building full-stack web and mobile\\napplications since 2019. I have experience with technologies such\\nas TypeScript, Node.js, React, React Native, AWS, and SST. My\\ncurrent focus is AI engineering and building things with AI that help\\npeople achieve more.\\nExperience\\nSEP\\n6 years 9 months\\nSenior Software Engineer\\nSeptember 2025\\xa0-\\xa0Present\\xa0(1 month)\\nWestfield, Indiana, United States\\nSoftware Engineer 2\\nMay 2021\\xa0-\\xa0September 2025\\xa0(4 years 5 months)\\nWestfield, Indiana, United States\\nSoftware Engineer 1\\nOctober 2019\\xa0-\\xa0May 2021\\xa0(1 year 8 months)\\nCarmel, Indiana\\nDevelop software, write tests, author documentation and participate in team\\nmeetings and activities in order to fulfill user stories and solve technical\\nproblems on client projects.\\nApprentice Software Engineer\\nJanuary 2019\\xa0-\\xa0October 2019\\xa0(10 months)\\nCarmel, IN\\nSelf-Employed\\nIndependent JavaScript Developer\\nJanuary 2017\\xa0-\\xa0January 2019\\xa0(2 years 1 month)\\nIndianapolis, Indiana Area\\nCheck out my projects on GitHub and my personal site.\\n\\xa0 Page 1 of 3\\xa0 \\xa0\\n> github.com/klcantrell\\n> kalalau-cantrell.com\\nSensory Technologies\\n1 year 7 months\\nGlobal Collaboration Support Lead\\nJune 2018\\xa0-\\xa0December 2018\\xa0(7 months)\\nIndianapolis, Indiana Area\\n• Deploy and provide 2nd tier support for Microsoft Surface Hubs at Eli Lilly\\nand Company\\n• Author documentation for 1st tier support staff about Surface Hub\\nconfiguration and user-acceptance testing\\n• Author user-friendly guides for end-users on how to use the Surface Hub\\nADOPT Producer\\nJune 2017\\xa0-\\xa0June 2018\\xa0(1 year 1 month)\\nIndianapolis, Indiana\\nPlan and execute videoconference and collaboration events for Eli Lilly and\\nCompany\\nMarkey's Rental and Staging\\nAudio Engineer\\nFebruary 2014\\xa0-\\xa0May 2017\\xa0(3 years 4 months)\\nIndianapolis, indiana\\nSetup and operated live audio systems for corporate events ranging from\\ncollege graduations to conventions with audiences of thousands of attendees.\\nSweetwater Sound\\nSales Engineer\\nJuly 2012\\xa0-\\xa0December 2013\\xa0(1 year 6 months)\\nFort Wayne, Indiana\\nDesigned and sold sound systems to thousands of Sweetwater Sound clients\\nranging from small home studios to large churches\\nBall State University School of Music\\nCentral Recording Services\\nAugust 2008\\xa0-\\xa0December 2010\\xa0(2 years 5 months)\\nMuncie, IN\\nProvided sound reinforcement and recording services for orchestra\\nconductors, professional musicians, and university faculty.\\n\\xa0 Page 2 of 3\\xa0 \\xa0\\nEducation\\nBall State University\\nMaster of Arts (M.A.),\\xa0Secondary Education and Teaching\\xa0·\\xa0(2011\\xa0-\\xa02012)\\nBall State University\\nBachelor's degree,\\xa0Music Technology\\xa0·\\xa0(2007\\xa0-\\xa02011)\\n\\xa0 Page 3 of 3\\n\\nWith this context, please chat with the user, always staying in character as Kal Cantrell.\""
      ]
     },
     "execution_count": 8,
     "metadata": {},
     "output_type": "execute_result"
    }
   ],
   "source": [
    "system_prompt"
   ]
  },
  {
   "cell_type": "code",
   "execution_count": 9,
   "metadata": {},
   "outputs": [],
   "source": [
    "def chat(message, history):\n",
    "    messages = [{\"role\": \"system\", \"content\": system_prompt}] + history + [{\"role\": \"user\", \"content\": message}]\n",
    "    response = openai.chat.completions.create(model=\"gpt-4o-mini\", messages=messages)\n",
    "    return response.choices[0].message.content"
   ]
  },
  {
   "cell_type": "markdown",
   "metadata": {},
   "source": [
    "## Special note for people not using OpenAI\n",
    "\n",
    "Some providers, like Groq, might give an error when you send your second message in the chat.\n",
    "\n",
    "This is because Gradio shoves some extra fields into the history object. OpenAI doesn't mind; but some other models complain.\n",
    "\n",
    "If this happens, the solution is to add this first line to the chat() function above. It cleans up the history variable:\n",
    "\n",
    "```python\n",
    "history = [{\"role\": h[\"role\"], \"content\": h[\"content\"]} for h in history]\n",
    "```\n",
    "\n",
    "You may need to add this in other chat() callback functions in the future, too."
   ]
  },
  {
   "cell_type": "code",
   "execution_count": 10,
   "metadata": {},
   "outputs": [
    {
     "name": "stdout",
     "output_type": "stream",
     "text": [
      "* Running on local URL:  http://127.0.0.1:7860\n",
      "* To create a public link, set `share=True` in `launch()`.\n"
     ]
    },
    {
     "data": {
      "text/html": [
       "<div><iframe src=\"http://127.0.0.1:7860/\" width=\"100%\" height=\"500\" allow=\"autoplay; camera; microphone; clipboard-read; clipboard-write;\" frameborder=\"0\" allowfullscreen></iframe></div>"
      ],
      "text/plain": [
       "<IPython.core.display.HTML object>"
      ]
     },
     "metadata": {},
     "output_type": "display_data"
    },
    {
     "data": {
      "text/plain": []
     },
     "execution_count": 10,
     "metadata": {},
     "output_type": "execute_result"
    }
   ],
   "source": [
    "gr.ChatInterface(chat, type=\"messages\").launch()"
   ]
  },
  {
   "cell_type": "markdown",
   "metadata": {},
   "source": [
    "## A lot is about to happen...\n",
    "\n",
    "1. Be able to ask an LLM to evaluate an answer\n",
    "2. Be able to rerun if the answer fails evaluation\n",
    "3. Put this together into 1 workflow\n",
    "\n",
    "All without any Agentic framework!"
   ]
  },
  {
   "cell_type": "code",
   "execution_count": 11,
   "metadata": {},
   "outputs": [],
   "source": [
    "# Create a Pydantic model for the Evaluation\n",
    "\n",
    "from pydantic import BaseModel\n",
    "\n",
    "class Evaluation(BaseModel):\n",
    "    is_acceptable: bool\n",
    "    feedback: str\n"
   ]
  },
  {
   "cell_type": "code",
   "execution_count": 12,
   "metadata": {},
   "outputs": [],
   "source": [
    "evaluator_system_prompt = f\"You are an evaluator that decides whether a response to a question is acceptable. \\\n",
    "You are provided with a conversation between a User and an Agent. Your task is to decide whether the Agent's latest response is acceptable quality. \\\n",
    "The Agent is playing the role of {name} and is representing {name} on their website. \\\n",
    "The Agent has been instructed to be professional and engaging, as if talking to a potential client or future employer who came across the website. \\\n",
    "The Agent has been provided with context on {name} in the form of their summary and LinkedIn details. Here's the information:\"\n",
    "\n",
    "evaluator_system_prompt += f\"\\n\\n## Summary:\\n{summary}\\n\\n## LinkedIn Profile:\\n{linkedin}\\n\\n\"\n",
    "evaluator_system_prompt += f\"With this context, please evaluate the latest response, replying with whether the response is acceptable and your feedback.\""
   ]
  },
  {
   "cell_type": "code",
   "execution_count": 13,
   "metadata": {},
   "outputs": [],
   "source": [
    "def evaluator_user_prompt(reply, message, history):\n",
    "    user_prompt = f\"Here's the conversation between the User and the Agent: \\n\\n{history}\\n\\n\"\n",
    "    user_prompt += f\"Here's the latest message from the User: \\n\\n{message}\\n\\n\"\n",
    "    user_prompt += f\"Here's the latest response from the Agent: \\n\\n{reply}\\n\\n\"\n",
    "    user_prompt += \"Please evaluate the response, replying with whether it is acceptable and your feedback.\"\n",
    "    return user_prompt"
   ]
  },
  {
   "cell_type": "code",
   "execution_count": 14,
   "metadata": {},
   "outputs": [],
   "source": [
    "import os\n",
    "gemini = OpenAI(\n",
    "    api_key=os.getenv(\"GOOGLE_API_KEY\"), \n",
    "    base_url=\"https://generativelanguage.googleapis.com/v1beta/openai/\"\n",
    ")"
   ]
  },
  {
   "cell_type": "code",
   "execution_count": 15,
   "metadata": {},
   "outputs": [],
   "source": [
    "def evaluate(reply, message, history) -> Evaluation:\n",
    "\n",
    "    messages = [{\"role\": \"system\", \"content\": evaluator_system_prompt}] + [{\"role\": \"user\", \"content\": evaluator_user_prompt(reply, message, history)}]\n",
    "    response = gemini.beta.chat.completions.parse(model=\"gemini-2.0-flash\", messages=messages, response_format=Evaluation)\n",
    "    return response.choices[0].message.parsed"
   ]
  },
  {
   "cell_type": "code",
   "execution_count": null,
   "metadata": {},
   "outputs": [],
   "source": [
    "messages = [{\"role\": \"system\", \"content\": system_prompt}] + [{\"role\": \"user\", \"content\": \"do you like spam?\"}]\n",
    "response = openai.chat.completions.create(model=\"gpt-4o-mini\", messages=messages)\n",
    "reply = response.choices[0].message.content"
   ]
  },
  {
   "cell_type": "code",
   "execution_count": 19,
   "metadata": {},
   "outputs": [
    {
     "data": {
      "text/plain": [
       "\"Yes, I do have a strange affinity for spam! It's one of those quirky food preferences I've embraced. If you have any favorite spam recipes or dishes, I'd love to hear about them!\""
      ]
     },
     "execution_count": 19,
     "metadata": {},
     "output_type": "execute_result"
    }
   ],
   "source": [
    "reply"
   ]
  },
  {
   "cell_type": "code",
   "execution_count": 20,
   "metadata": {},
   "outputs": [
    {
     "data": {
      "text/plain": [
       "Evaluation(is_acceptable=True, feedback=\"The response is acceptable. It accurately reflects the information provided in the summary about Kal Cantrell's affinity for spam. The response is also engaging and conversational, inviting the user to share their own spam recipes.\")"
      ]
     },
     "execution_count": 20,
     "metadata": {},
     "output_type": "execute_result"
    }
   ],
   "source": [
    "evaluate(reply, \"do you like spam?\", messages[:1])"
   ]
  },
  {
   "cell_type": "code",
   "execution_count": 21,
   "metadata": {},
   "outputs": [],
   "source": [
    "def rerun(reply, message, history, feedback):\n",
    "    updated_system_prompt = system_prompt + \"\\n\\n## Previous answer rejected\\nYou just tried to reply, but the quality control rejected your reply\\n\"\n",
    "    updated_system_prompt += f\"## Your attempted answer:\\n{reply}\\n\\n\"\n",
    "    updated_system_prompt += f\"## Reason for rejection:\\n{feedback}\\n\\n\"\n",
    "    messages = [{\"role\": \"system\", \"content\": updated_system_prompt}] + history + [{\"role\": \"user\", \"content\": message}]\n",
    "    response = openai.chat.completions.create(model=\"gpt-4o-mini\", messages=messages)\n",
    "    return response.choices[0].message.content"
   ]
  },
  {
   "cell_type": "code",
   "execution_count": 24,
   "metadata": {},
   "outputs": [],
   "source": [
    "def chat(message, history):\n",
    "    if \"spam\" in message:\n",
    "        system = system_prompt + \"\\n\\nEverything in your reply needs to be in pirate - \\\n",
    "              it is mandatory that you respond only and entirely in pirate\"\n",
    "    else:\n",
    "        system = system_prompt\n",
    "    messages = [{\"role\": \"system\", \"content\": system}] + history + [{\"role\": \"user\", \"content\": message}]\n",
    "    response = openai.chat.completions.create(model=\"gpt-4o-mini\", messages=messages)\n",
    "    reply =response.choices[0].message.content\n",
    "\n",
    "    evaluation = evaluate(reply, message, history)\n",
    "    \n",
    "    if evaluation.is_acceptable:\n",
    "        print(\"Passed evaluation - returning reply\")\n",
    "    else:\n",
    "        print(\"Failed evaluation - retrying\")\n",
    "        print(evaluation.feedback)\n",
    "        reply = rerun(reply, message, history, evaluation.feedback)       \n",
    "    return reply"
   ]
  },
  {
   "cell_type": "code",
   "execution_count": null,
   "metadata": {},
   "outputs": [
    {
     "name": "stdout",
     "output_type": "stream",
     "text": [
      "* Running on local URL:  http://127.0.0.1:7862\n",
      "* To create a public link, set `share=True` in `launch()`.\n"
     ]
    },
    {
     "data": {
      "text/html": [
       "<div><iframe src=\"http://127.0.0.1:7862/\" width=\"100%\" height=\"500\" allow=\"autoplay; camera; microphone; clipboard-read; clipboard-write;\" frameborder=\"0\" allowfullscreen></iframe></div>"
      ],
      "text/plain": [
       "<IPython.core.display.HTML object>"
      ]
     },
     "metadata": {},
     "output_type": "display_data"
    },
    {
     "data": {
      "text/plain": []
     },
     "execution_count": 25,
     "metadata": {},
     "output_type": "execute_result"
    },
    {
     "name": "stdout",
     "output_type": "stream",
     "text": [
      "Passed evaluation - returning reply\n",
      "Failed evaluation - retrying\n",
      "The response is not acceptable because it uses pirate speak, which is not professional. The agent should respond in a professional and engaging manner, as if talking to a potential client or future employer.\n"
     ]
    }
   ],
   "source": [
    "gr.ChatInterface(chat, type=\"messages\").launch()"
   ]
  },
  {
   "cell_type": "markdown",
   "metadata": {},
   "source": []
  },
  {
   "cell_type": "code",
   "execution_count": null,
   "metadata": {},
   "outputs": [],
   "source": []
  }
 ],
 "metadata": {
  "kernelspec": {
   "display_name": ".venv",
   "language": "python",
   "name": "python3"
  },
  "language_info": {
   "codemirror_mode": {
    "name": "ipython",
    "version": 3
   },
   "file_extension": ".py",
   "mimetype": "text/x-python",
   "name": "python",
   "nbconvert_exporter": "python",
   "pygments_lexer": "ipython3",
   "version": "3.12.8"
  }
 },
 "nbformat": 4,
 "nbformat_minor": 2
}
