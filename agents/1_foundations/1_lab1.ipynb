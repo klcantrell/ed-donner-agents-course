{
 "cells": [
  {
   "cell_type": "markdown",
   "metadata": {},
   "source": [
    "# Welcome to the start of your adventure in Agentic AI"
   ]
  },
  {
   "cell_type": "markdown",
   "metadata": {},
   "source": [
    "<table style=\"margin: 0; text-align: left; width:100%\">\n",
    "    <tr>\n",
    "        <td style=\"width: 150px; height: 150px; vertical-align: middle;\">\n",
    "            <img src=\"../assets/stop.png\" width=\"150\" height=\"150\" style=\"display: block;\" />\n",
    "        </td>\n",
    "        <td>\n",
    "            <h2 style=\"color:#ff7800;\">Are you ready for action??</h2>\n",
    "            <span style=\"color:#ff7800;\">Have you completed all the setup steps in the <a href=\"../setup/\">setup</a> folder?<br/>\n",
    "            Have you read the <a href=\"../README.md\">README</a>? Many common questions are answered here!<br/>\n",
    "            Have you checked out the guides in the <a href=\"../guides/01_intro.ipynb\">guides</a> folder?<br/>\n",
    "            Well in that case, you're ready!!\n",
    "            </span>\n",
    "        </td>\n",
    "    </tr>\n",
    "</table>"
   ]
  },
  {
   "cell_type": "markdown",
   "metadata": {},
   "source": [
    "<table style=\"margin: 0; text-align: left; width:100%\">\n",
    "    <tr>\n",
    "        <td style=\"width: 150px; height: 150px; vertical-align: middle;\">\n",
    "            <img src=\"../assets/tools.png\" width=\"150\" height=\"150\" style=\"display: block;\" />\n",
    "        </td>\n",
    "        <td>\n",
    "            <h2 style=\"color:#00bfff;\">This code is a live resource - keep an eye out for my updates</h2>\n",
    "            <span style=\"color:#00bfff;\">I push updates regularly. As people ask questions or have problems, I add more examples and improve explanations. As a result, the code below might not be identical to the videos, as I've added more steps and better comments. Consider this like an interactive book that accompanies the lectures.<br/><br/>\n",
    "            I try to send emails regularly with important updates related to the course. You can find this in the 'Announcements' section of Udemy in the left sidebar. You can also choose to receive my emails via your Notification Settings in Udemy. I'm respectful of your inbox and always try to add value with my emails!\n",
    "            </span>\n",
    "        </td>\n",
    "    </tr>\n",
    "</table>"
   ]
  },
  {
   "cell_type": "markdown",
   "metadata": {},
   "source": [
    "### And please do remember to contact me if I can help\n",
    "\n",
    "And I love to connect: https://www.linkedin.com/in/eddonner/\n",
    "\n",
    "\n",
    "### New to Notebooks like this one? Head over to the guides folder!\n",
    "\n",
    "Just to check you've already added the Python and Jupyter extensions to Cursor, if not already installed:\n",
    "- Open extensions (View >> extensions)\n",
    "- Search for python, and when the results show, click on the ms-python one, and Install it if not already installed\n",
    "- Search for jupyter, and when the results show, click on the Microsoft one, and Install it if not already installed  \n",
    "Then View >> Explorer to bring back the File Explorer.\n",
    "\n",
    "And then:\n",
    "1. Click where it says \"Select Kernel\" near the top right, and select the option called `.venv (Python 3.12.9)` or similar, which should be the first choice or the most prominent choice. You may need to choose \"Python Environments\" first.\n",
    "2. Click in each \"cell\" below, starting with the cell immediately below this text, and press Shift+Enter to run\n",
    "3. Enjoy!\n",
    "\n",
    "After you click \"Select Kernel\", if there is no option like `.venv (Python 3.12.9)` then please do the following:  \n",
    "1. On Mac: From the Cursor menu, choose Settings >> VS Code Settings (NOTE: be sure to select `VSCode Settings` not `Cursor Settings`);  \n",
    "On Windows PC: From the File menu, choose Preferences >> VS Code Settings(NOTE: be sure to select `VSCode Settings` not `Cursor Settings`)  \n",
    "2. In the Settings search bar, type \"venv\"  \n",
    "3. In the field \"Path to folder with a list of Virtual Environments\" put the path to the project root, like C:\\Users\\username\\projects\\agents (on a Windows PC) or /Users/username/projects/agents (on Mac or Linux).  \n",
    "And then try again.\n",
    "\n",
    "Having problems with missing Python versions in that list? Have you ever used Anaconda before? It might be interferring. Quit Cursor, bring up a new command line, and make sure that your Anaconda environment is deactivated:    \n",
    "`conda deactivate`  \n",
    "And if you still have any problems with conda and python versions, it's possible that you will need to run this too:  \n",
    "`conda config --set auto_activate_base false`  \n",
    "and then from within the Agents directory, you should be able to run `uv python list` and see the Python 3.12 version."
   ]
  },
  {
   "cell_type": "code",
   "execution_count": 1,
   "metadata": {},
   "outputs": [],
   "source": [
    "# First let's do an import. If you get an Import Error, double check that your Kernel is correct..\n",
    "\n",
    "from dotenv import load_dotenv\n"
   ]
  },
  {
   "cell_type": "code",
   "execution_count": 2,
   "metadata": {},
   "outputs": [
    {
     "data": {
      "text/plain": [
       "True"
      ]
     },
     "execution_count": 2,
     "metadata": {},
     "output_type": "execute_result"
    }
   ],
   "source": [
    "# Next it's time to load the API keys into environment variables\n",
    "# If this returns false, see the next cell!\n",
    "\n",
    "load_dotenv(override=True)"
   ]
  },
  {
   "cell_type": "markdown",
   "metadata": {},
   "source": [
    "### Wait, did that just output `False`??\n",
    "\n",
    "If so, the most common reason is that you didn't save your `.env` file after adding the key! Be sure to have saved.\n",
    "\n",
    "Also, make sure the `.env` file is named precisely `.env` and is in the project root directory (`agents`)\n",
    "\n",
    "By the way, your `.env` file should have a stop symbol next to it in Cursor on the left, and that's actually a good thing: that's Cursor saying to you, \"hey, I realize this is a file filled with secret information, and I'm not going to send it to an external AI to suggest changes, because your keys should not be shown to anyone else.\""
   ]
  },
  {
   "cell_type": "markdown",
   "metadata": {},
   "source": [
    "<table style=\"margin: 0; text-align: left; width:100%\">\n",
    "    <tr>\n",
    "        <td style=\"width: 150px; height: 150px; vertical-align: middle;\">\n",
    "            <img src=\"../assets/stop.png\" width=\"150\" height=\"150\" style=\"display: block;\" />\n",
    "        </td>\n",
    "        <td>\n",
    "            <h2 style=\"color:#ff7800;\">Final reminders</h2>\n",
    "            <span style=\"color:#ff7800;\">1. If you're not confident about Environment Variables or Web Endpoints / APIs, please read Topics 3 and 5 in this <a href=\"../guides/04_technical_foundations.ipynb\">technical foundations guide</a>.<br/>\n",
    "            2. If you want to use AIs other than OpenAI, like Gemini, DeepSeek or Ollama (free), please see the first section in this <a href=\"../guides/09_ai_apis_and_ollama.ipynb\">AI APIs guide</a>.<br/>\n",
    "            3. If you ever get a Name Error in Python, you can always fix it immediately; see the last section of this <a href=\"../guides/06_python_foundations.ipynb\">Python Foundations guide</a> and follow both tutorials and exercises.<br/>\n",
    "            </span>\n",
    "        </td>\n",
    "    </tr>\n",
    "</table>"
   ]
  },
  {
   "cell_type": "code",
   "execution_count": 3,
   "metadata": {},
   "outputs": [
    {
     "name": "stdout",
     "output_type": "stream",
     "text": [
      "OpenAI API Key exists and begins sk-proj-\n"
     ]
    }
   ],
   "source": [
    "# Check the key - if you're not using OpenAI, check whichever key you're using! Ollama doesn't need a key.\n",
    "\n",
    "import os\n",
    "openai_api_key = os.getenv('OPENAI_API_KEY')\n",
    "\n",
    "if openai_api_key:\n",
    "    print(f\"OpenAI API Key exists and begins {openai_api_key[:8]}\")\n",
    "else:\n",
    "    print(\"OpenAI API Key not set - please head to the troubleshooting guide in the setup folder\")\n",
    "    \n"
   ]
  },
  {
   "cell_type": "code",
   "execution_count": 4,
   "metadata": {},
   "outputs": [],
   "source": [
    "# And now - the all important import statement\n",
    "# If you get an import error - head over to troubleshooting in the Setup folder\n",
    "# Even for other LLM providers like Gemini, you still use this OpenAI import - see Guide 9 for why\n",
    "\n",
    "from openai import OpenAI"
   ]
  },
  {
   "cell_type": "code",
   "execution_count": 5,
   "metadata": {},
   "outputs": [],
   "source": [
    "# And now we'll create an instance of the OpenAI class\n",
    "# If you're not sure what it means to create an instance of a class - head over to the guides folder (guide 6)!\n",
    "# If you get a NameError - head over to the guides folder (guide 6)to learn about NameErrors - always instantly fixable\n",
    "# If you're not using OpenAI, you just need to slightly modify this - precise instructions are in the AI APIs guide (guide 9)\n",
    "\n",
    "openai = OpenAI()"
   ]
  },
  {
   "cell_type": "code",
   "execution_count": 6,
   "metadata": {},
   "outputs": [],
   "source": [
    "# Create a list of messages in the familiar OpenAI format\n",
    "\n",
    "messages = [{\"role\": \"user\", \"content\": \"What is 2+2?\"}]"
   ]
  },
  {
   "cell_type": "code",
   "execution_count": 7,
   "metadata": {},
   "outputs": [
    {
     "name": "stdout",
     "output_type": "stream",
     "text": [
      "2 + 2 equals 4.\n"
     ]
    }
   ],
   "source": [
    "# And now call it! Any problems, head to the troubleshooting guide\n",
    "# This uses GPT 4.1 nano, the incredibly cheap model\n",
    "# The APIs guide (guide 9) has exact instructions for using even cheaper or free alternatives to OpenAI\n",
    "# If you get a NameError, head to the guides folder (guide 6) to learn about NameErrors - always instantly fixable\n",
    "\n",
    "response = openai.chat.completions.create(\n",
    "    model=\"gpt-4.1-nano\",\n",
    "    messages=messages\n",
    ")\n",
    "\n",
    "print(response.choices[0].message.content)\n"
   ]
  },
  {
   "cell_type": "code",
   "execution_count": 8,
   "metadata": {},
   "outputs": [],
   "source": [
    "# And now - let's ask for a question:\n",
    "\n",
    "question = \"Please propose a hard, challenging question to assess someone's IQ. Respond only with the question.\"\n",
    "messages = [{\"role\": \"user\", \"content\": question}]\n"
   ]
  },
  {
   "cell_type": "code",
   "execution_count": 9,
   "metadata": {},
   "outputs": [
    {
     "name": "stdout",
     "output_type": "stream",
     "text": [
      "If 5 cats can catch 5 mice in 5 minutes, how many cats are needed to catch 100 mice in 100 minutes?\n"
     ]
    }
   ],
   "source": [
    "# ask it - this uses GPT 4.1 mini, still cheap but more powerful than nano\n",
    "\n",
    "response = openai.chat.completions.create(\n",
    "    model=\"gpt-4.1-mini\",\n",
    "    messages=messages\n",
    ")\n",
    "\n",
    "question = response.choices[0].message.content\n",
    "\n",
    "print(question)\n"
   ]
  },
  {
   "cell_type": "code",
   "execution_count": 10,
   "metadata": {},
   "outputs": [],
   "source": [
    "# form a new messages list\n",
    "messages = [{\"role\": \"user\", \"content\": question}]\n"
   ]
  },
  {
   "cell_type": "code",
   "execution_count": 11,
   "metadata": {},
   "outputs": [
    {
     "name": "stdout",
     "output_type": "stream",
     "text": [
      "Let's analyze the problem step-by-step:\n",
      "\n",
      "**Given:**\n",
      "- 5 cats catch 5 mice in 5 minutes.\n",
      "\n",
      "**Find:**\n",
      "- How many cats are needed to catch 100 mice in 100 minutes?\n",
      "\n",
      "---\n",
      "\n",
      "### Step 1: Determine the rate of catching mice per cat\n",
      "\n",
      "If 5 cats catch 5 mice in 5 minutes, then:\n",
      "\n",
      "- Total mice caught by 5 cats in 5 minutes = 5 mice\n",
      "- So, mice caught per cat in 5 minutes = 5 mice / 5 cats = 1 mouse per cat per 5 minutes\n",
      "\n",
      "Therefore:\n",
      "\n",
      "- Each cat catches 1 mouse every 5 minutes.\n",
      "\n",
      "---\n",
      "\n",
      "### Step 2: Calculate how many mice one cat can catch in 100 minutes\n",
      "\n",
      "Since 1 cat catches 1 mouse every 5 minutes,\n",
      "\n",
      "- In 100 minutes, one cat catches = \\( \\frac{100}{5} = 20 \\) mice.\n",
      "\n",
      "---\n",
      "\n",
      "### Step 3: Determine how many cats are needed to catch 100 mice in 100 minutes\n",
      "\n",
      "- Total mice to catch = 100\n",
      "- Mice caught by 1 cat in 100 minutes = 20\n",
      "\n",
      "Number of cats needed = \\( \\frac{100 \\text{ mice}}{20 \\text{ mice/cat}} = 5 \\) cats\n",
      "\n",
      "---\n",
      "\n",
      "### **Answer:**\n",
      "\n",
      "**5 cats** are needed to catch 100 mice in 100 minutes.\n"
     ]
    }
   ],
   "source": [
    "# Ask it again\n",
    "\n",
    "response = openai.chat.completions.create(\n",
    "    model=\"gpt-4.1-mini\",\n",
    "    messages=messages\n",
    ")\n",
    "\n",
    "answer = response.choices[0].message.content\n",
    "print(answer)\n"
   ]
  },
  {
   "cell_type": "code",
   "execution_count": 12,
   "metadata": {},
   "outputs": [
    {
     "data": {
      "text/markdown": [
       "Let's analyze the problem step-by-step:\n",
       "\n",
       "**Given:**\n",
       "- 5 cats catch 5 mice in 5 minutes.\n",
       "\n",
       "**Find:**\n",
       "- How many cats are needed to catch 100 mice in 100 minutes?\n",
       "\n",
       "---\n",
       "\n",
       "### Step 1: Determine the rate of catching mice per cat\n",
       "\n",
       "If 5 cats catch 5 mice in 5 minutes, then:\n",
       "\n",
       "- Total mice caught by 5 cats in 5 minutes = 5 mice\n",
       "- So, mice caught per cat in 5 minutes = 5 mice / 5 cats = 1 mouse per cat per 5 minutes\n",
       "\n",
       "Therefore:\n",
       "\n",
       "- Each cat catches 1 mouse every 5 minutes.\n",
       "\n",
       "---\n",
       "\n",
       "### Step 2: Calculate how many mice one cat can catch in 100 minutes\n",
       "\n",
       "Since 1 cat catches 1 mouse every 5 minutes,\n",
       "\n",
       "- In 100 minutes, one cat catches = \\( \\frac{100}{5} = 20 \\) mice.\n",
       "\n",
       "---\n",
       "\n",
       "### Step 3: Determine how many cats are needed to catch 100 mice in 100 minutes\n",
       "\n",
       "- Total mice to catch = 100\n",
       "- Mice caught by 1 cat in 100 minutes = 20\n",
       "\n",
       "Number of cats needed = \\( \\frac{100 \\text{ mice}}{20 \\text{ mice/cat}} = 5 \\) cats\n",
       "\n",
       "---\n",
       "\n",
       "### **Answer:**\n",
       "\n",
       "**5 cats** are needed to catch 100 mice in 100 minutes."
      ],
      "text/plain": [
       "<IPython.core.display.Markdown object>"
      ]
     },
     "metadata": {},
     "output_type": "display_data"
    }
   ],
   "source": [
    "from IPython.display import Markdown, display\n",
    "\n",
    "display(Markdown(answer))\n",
    "\n"
   ]
  },
  {
   "cell_type": "markdown",
   "metadata": {},
   "source": [
    "# Congratulations!\n",
    "\n",
    "That was a small, simple step in the direction of Agentic AI, with your new environment!\n",
    "\n",
    "Next time things get more interesting..."
   ]
  },
  {
   "cell_type": "markdown",
   "metadata": {},
   "source": [
    "<table style=\"margin: 0; text-align: left; width:100%\">\n",
    "    <tr>\n",
    "        <td style=\"width: 150px; height: 150px; vertical-align: middle;\">\n",
    "            <img src=\"../assets/exercise.png\" width=\"150\" height=\"150\" style=\"display: block;\" />\n",
    "        </td>\n",
    "        <td>\n",
    "            <h2 style=\"color:#ff7800;\">Exercise</h2>\n",
    "            <span style=\"color:#ff7800;\">Now try this commercial application:<br/>\n",
    "            First ask the LLM to pick a business area that might be worth exploring for an Agentic AI opportunity.<br/>\n",
    "            Then ask the LLM to present a pain-point in that industry - something challenging that might be ripe for an Agentic solution.<br/>\n",
    "            Finally have 3 third LLM call propose the Agentic AI solution. <br/>\n",
    "            We will cover this at up-coming labs, so don't worry if you're unsure.. just give it a try!\n",
    "            </span>\n",
    "        </td>\n",
    "    </tr>\n",
    "</table>"
   ]
  },
  {
   "cell_type": "code",
   "execution_count": 15,
   "metadata": {},
   "outputs": [
    {
     "name": "stdout",
     "output_type": "stream",
     "text": [
      "Consider exploring the **healthcare industry** for an Agentic AI opportunity. Healthcare presents numerous complex, high-impact challenges—ranging from patient diagnostics and personalized treatment planning to administrative automation and predictive health monitoring—where an Agentic AI could autonomously gather data, reason through medical knowledge, and assist clinicians or patients with decision-making in real time. The potential for improving outcomes, reducing costs, and increasing accessibility makes it a promising field for innovative AI applications.\n"
     ]
    }
   ],
   "source": [
    "# First create the messages:\n",
    "\n",
    "messages = [{\"role\": \"user\", \"content\": \"I'm looking for an industry to explore for an Agentic AI opportunity. Please give me one industry to explore.\"}]\n",
    "\n",
    "# Then make the first call:\n",
    "\n",
    "response = openai.chat.completions.create(\n",
    "    model=\"gpt-4.1-mini\",\n",
    "    messages=messages\n",
    ")\n",
    "\n",
    "# Then read the business idea:\n",
    "\n",
    "business_idea = response.choices[0].message.content\n",
    "\n",
    "print(business_idea)\n",
    "\n",
    "# And repeat! In the next message, include the business idea within the message"
   ]
  },
  {
   "cell_type": "code",
   "execution_count": null,
   "metadata": {},
   "outputs": [
    {
     "name": "stdout",
     "output_type": "stream",
     "text": [
      "One significant pain point in the healthcare industry is **inefficient patient care coordination**, especially for patients with chronic conditions who require multidisciplinary care over extended periods. This leads to fragmented communication among healthcare providers, redundant tests, delayed treatments, and overall suboptimal patient outcomes.\n",
      "\n",
      "An **Agentic AI solution** could address this by acting as an autonomous care coordinator that:\n",
      "\n",
      "- Continuously monitors patient data from various sources (EHRs, wearable devices, lab results).\n",
      "- Proactively schedules appointments, follow-ups, and necessary tests.\n",
      "- Facilitates seamless communication among specialists, primary care physicians, and patients.\n",
      "- Alerts providers to potential risks or care gaps before they escalate.\n",
      "- Personalizes care plans by analyzing large datasets for best treatment pathways.\n",
      "\n",
      "By autonomously managing these tasks, the Agentic AI can reduce administrative burden on clinicians, minimize errors, improve adherence to care plans, and ultimately enhance patient outcomes and satisfaction.\n"
     ]
    }
   ],
   "source": [
    "# same for pain point\n",
    "\n",
    "messages = [{\"role\": \"user\", \"content\": \"Please identify a pain point in the healthcare industry that an Agentic AI solution could address.\"}]\n",
    "\n",
    "response = openai.chat.completions.create(\n",
    "    model=\"gpt-4.1-mini\",\n",
    "    messages=messages\n",
    ")\n",
    "\n",
    "pain_point = response.choices[0].message.content\n",
    "\n",
    "print(pain_point)"
   ]
  },
  {
   "cell_type": "markdown",
   "metadata": {},
   "source": []
  },
  {
   "cell_type": "code",
   "execution_count": 17,
   "metadata": {},
   "outputs": [
    {
     "name": "stdout",
     "output_type": "stream",
     "text": [
      "Certainly! Here's a detailed proposal for an **Agentic AI solution** to tackle the pain point of **inefficient patient care coordination** in healthcare:\n",
      "\n",
      "---\n",
      "\n",
      "### Agentic AI Solution: **CareSync AI** – Autonomous Care Coordination Agent\n",
      "\n",
      "#### **Problem Statement**\n",
      "Inefficient patient care coordination leads to fragmented communication among healthcare providers, delayed treatments, redundant tests, increased healthcare costs, and poor patient outcomes. Current systems often rely on manual data entry, siloed information, and reactive approaches.\n",
      "\n",
      "#### **Solution Overview**\n",
      "**CareSync AI** is an autonomous, agentic AI system designed to proactively coordinate patient care across multiple stakeholders — including primary care physicians, specialists, hospitals, labs, pharmacies, and patients themselves. It autonomously collects, integrates, analyzes, and acts on patient data to optimize care pathways in real time.\n",
      "\n",
      "---\n",
      "\n",
      "### Core Features & Capabilities\n",
      "\n",
      "1. **Multi-Source Data Integration Agent**\n",
      "   - Automatically pulls and harmonizes patient records from disparate EHR systems, labs, imaging centers, pharmacies, and wearable devices.\n",
      "   - Continuously updates a unified, comprehensive patient profile.\n",
      "\n",
      "2. **Intelligent Task Orchestration**\n",
      "   - Identifies gaps in care plans (e.g., overdue tests, follow-up appointments) and autonomously schedules and coordinates these with relevant providers.\n",
      "   - Sends reminders and instructions to patients, reducing no-shows and non-compliance.\n",
      "   - Escalates critical alerts to care managers or clinicians when intervention is urgently needed.\n",
      "\n",
      "3. **Proactive Communication Bridge**\n",
      "   - Acts as an intermediary that facilitates seamless real-time communication and data sharing across the care team.\n",
      "   - Uses natural language processing (NLP) to summarize clinical notes and transmit key insights to relevant providers.\n",
      "\n",
      "4. **Predictive Analytics & Decision Support**\n",
      "   - Utilizes predictive modeling to anticipate patient risks (e.g., hospital readmission, medication non-adherence).\n",
      "   - Suggests optimized care pathways personalized to patient history and social determinants of health.\n",
      "   - Continuously learns from outcomes to refine coordination strategies.\n",
      "\n",
      "5. **Patient Engagement & Empowerment**\n",
      "   - Engages patients via a conversational AI interface (chatbots, voice assistants) providing education, answering questions, and encouraging self-management.\n",
      "   - Gathers patient-reported outcomes and symptoms to inform the care team dynamically.\n",
      "\n",
      "---\n",
      "\n",
      "### Agentic AI Characteristics\n",
      "\n",
      "- **Autonomy:** Operates with minimal human supervision to gather data, schedule care activities, and alert stakeholders.\n",
      "- **Goal-Oriented:** Focuses on objectives like minimizing delays, reducing redundant procedures, and improving health outcomes.\n",
      "- **Adaptability:** Learns from interactions and outcomes to improve its coordination effectiveness over time.\n",
      "- **Collaboration:** Coordinates actions with human agents (doctors, nurses, care coordinators) and other AI systems.\n",
      "\n",
      "---\n",
      "\n",
      "### Implementation Roadmap\n",
      "\n",
      "1. **Pilot Deployment**: Start with a specific department (e.g., chronic disease management or post-surgical follow-up) in a hospital or clinic.\n",
      "2. **Integration**: Connect CareSync AI with existing EHR platforms, communication tools, and patient apps via APIs.\n",
      "3. **Regulatory Compliance & Privacy**: Implement HIPAA-compliant data handling, consent management, and secure authentication.\n",
      "4. **User Training & Buy-in**: Train care teams to effectively collaborate with the AI agent; gather feedback.\n",
      "5. **Scaling**: Broaden to multi-institution networks and integrate payer systems for holistic care cost optimization.\n",
      "\n",
      "---\n",
      "\n",
      "### Expected Benefits\n",
      "\n",
      "- **Reduced administrative burden** on healthcare providers.\n",
      "- **Improved timeliness** and continuity of care.\n",
      "- **Enhanced patient satisfaction** through personalized engagement.\n",
      "- **Decrease in preventable hospitalizations** and redundant testing.\n",
      "- **Data-driven insights** for continuous quality improvement.\n",
      "\n",
      "---\n",
      "\n",
      "If desired, I can also provide a technical architecture diagram or more specific AI model recommendations for building CareSync AI. Would you like me to do that?\n"
     ]
    }
   ],
   "source": [
    "# same for agentic solution\n",
    "\n",
    "messages = [{\"role\": \"user\", \"content\": \"Please propose an Agentic AI solution for how to address the pain point of \\\"inefficient patient care coordination\\\" in the healthcare industry\"}]\n",
    "\n",
    "response = openai.chat.completions.create(\n",
    "    model=\"gpt-4.1-mini\",\n",
    "    messages=messages\n",
    ")\n",
    "\n",
    "possible_solution = response.choices[0].message.content\n",
    "\n",
    "print(possible_solution)"
   ]
  },
  {
   "cell_type": "code",
   "execution_count": null,
   "metadata": {},
   "outputs": [],
   "source": []
  }
 ],
 "metadata": {
  "kernelspec": {
   "display_name": ".venv",
   "language": "python",
   "name": "python3"
  },
  "language_info": {
   "codemirror_mode": {
    "name": "ipython",
    "version": 3
   },
   "file_extension": ".py",
   "mimetype": "text/x-python",
   "name": "python",
   "nbconvert_exporter": "python",
   "pygments_lexer": "ipython3",
   "version": "3.12.8"
  }
 },
 "nbformat": 4,
 "nbformat_minor": 2
}
